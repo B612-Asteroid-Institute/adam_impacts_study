{
 "cells": [
  {
   "cell_type": "code",
   "execution_count": 4,
   "metadata": {},
   "outputs": [
    {
     "ename": "ImportError",
     "evalue": "cannot import name 'collect_all_window_results_new' from 'adam_impact_study.analysis.main' (/Users/aleck/Code/adam_impacts_study/src/adam_impact_study/analysis/main.py)",
     "output_type": "error",
     "traceback": [
      "\u001b[31m---------------------------------------------------------------------------\u001b[39m",
      "\u001b[31mImportError\u001b[39m                               Traceback (most recent call last)",
      "\u001b[36mCell\u001b[39m\u001b[36m \u001b[39m\u001b[32mIn[4]\u001b[39m\u001b[32m, line 8\u001b[39m\n\u001b[32m      1\u001b[39m \u001b[38;5;28;01mfrom\u001b[39;00m\u001b[38;5;250m \u001b[39m\u001b[34;01madam_impact_study\u001b[39;00m\u001b[34;01m.\u001b[39;00m\u001b[34;01mtypes\u001b[39;00m\u001b[38;5;250m \u001b[39m\u001b[38;5;28;01mimport\u001b[39;00m (\n\u001b[32m      2\u001b[39m     ImpactorOrbits,\n\u001b[32m      3\u001b[39m     Observations,\n\u001b[32m   (...)\u001b[39m\u001b[32m      6\u001b[39m     ImpactorResultSummary,\n\u001b[32m      7\u001b[39m )\n\u001b[32m----> \u001b[39m\u001b[32m8\u001b[39m \u001b[38;5;28;01mfrom\u001b[39;00m\u001b[38;5;250m \u001b[39m\u001b[34;01madam_impact_study\u001b[39;00m\u001b[34;01m.\u001b[39;00m\u001b[34;01manalysis\u001b[39;00m\u001b[34;01m.\u001b[39;00m\u001b[34;01mmain\u001b[39;00m\u001b[38;5;250m \u001b[39m\u001b[38;5;28;01mimport\u001b[39;00m (\n\u001b[32m      9\u001b[39m     run_all_analysis,\n\u001b[32m     10\u001b[39m     collect_all_results,\n\u001b[32m     11\u001b[39m     summarize_impact_study_results,\n\u001b[32m     12\u001b[39m     make_analysis_plots,\n\u001b[32m     13\u001b[39m     collect_all_window_results_new,\n\u001b[32m     14\u001b[39m     create_missing_window_results,\n\u001b[32m     15\u001b[39m     collect_all_observations,\n\u001b[32m     16\u001b[39m )\n",
      "\u001b[31mImportError\u001b[39m: cannot import name 'collect_all_window_results_new' from 'adam_impact_study.analysis.main' (/Users/aleck/Code/adam_impacts_study/src/adam_impact_study/analysis/main.py)"
     ]
    }
   ],
   "source": [
    "from adam_impact_study.types import (\n",
    "    ImpactorOrbits,\n",
    "    Observations,\n",
    "    ResultsTiming,\n",
    "    WindowResult,\n",
    "    ImpactorResultSummary,\n",
    ")\n",
    "from adam_impact_study.analysis.main import (\n",
    "    run_all_analysis,\n",
    "    collect_all_results,\n",
    "    summarize_impact_study_results,\n",
    "    make_analysis_plots,\n",
    ")\n",
    "from adam_impact_study.analysis.collect import collect_all_window_results_new, create_missing_window_results, collect_all_observations"
   ]
  },
  {
   "cell_type": "code",
   "execution_count": 2,
   "metadata": {},
   "outputs": [],
   "source": [
    "run_dir = \"../march_run/results\"\n",
    "out_dir = \"../march_analysis/\""
   ]
  },
  {
   "cell_type": "code",
   "execution_count": null,
   "metadata": {},
   "outputs": [],
   "source": []
  },
  {
   "cell_type": "code",
   "execution_count": 3,
   "metadata": {},
   "outputs": [],
   "source": [
    "# run_all_analysis(run_dir, out_dir, summary_plots=True, individual_plots=False)"
   ]
  },
  {
   "cell_type": "code",
   "execution_count": null,
   "metadata": {},
   "outputs": [],
   "source": [
    "impactor_orbits, observations, results_timing, window_results = collect_all_results(\n",
    "    run_dir\n",
    ")\n",
    "impactor_orbits.to_parquet(\n",
    "    \"../march_analysis/impactor_orbits.parquet\"\n",
    ")\n",
    "observations.to_parquet(\n",
    "    \"../march_analysis/observations.parquet\"\n",
    ")\n",
    "results_timing.to_parquet(\n",
    "    \"../march_analysis/results_timing.parquet\"\n",
    ")\n",
    "window_results.to_parquet(\n",
    "    \"../march_analysis/window_results.parquet\"\n",
    ")\n"
   ]
  },
  {
   "cell_type": "code",
   "execution_count": 5,
   "metadata": {},
   "outputs": [],
   "source": [
    "impactor_orbits = ImpactorOrbits.from_parquet(\n",
    "    \"../march_analysis/impactor_orbits.parquet\"\n",
    ")\n",
    "observations = Observations.from_parquet(\n",
    "    \"../march_analysis/observations.parquet\"\n",
    ")\n",
    "results_timing = ResultsTiming.from_parquet(\n",
    "    \"../march_analysis/results_timing.parquet\"\n",
    ")\n",
    "window_results = WindowResult.from_parquet(\n",
    "    \"../march_analysis/window_results.parquet\"\n",
    ")\n"
   ]
  },
  {
   "cell_type": "code",
   "execution_count": null,
   "metadata": {},
   "outputs": [],
   "source": [
    "summary_results = summarize_impact_study_results(\n",
    "    impactor_orbits, observations, results_timing, window_results, out_dir, max_processes=1\n",
    ")\n",
    "summary_results.to_parquet(\n",
    "    \"../march_analysis/summary_results.parquet\"\n",
    ")\n"
   ]
  },
  {
   "cell_type": "code",
   "execution_count": 7,
   "metadata": {},
   "outputs": [],
   "source": [
    "summary_results = ImpactorResultSummary.from_parquet(\n",
    "    \"../march_analysis/summary_results.parquet\"\n",
    ")\n",
    "\n"
   ]
  },
  {
   "cell_type": "code",
   "execution_count": null,
   "metadata": {},
   "outputs": [],
   "source": [
    "make_analysis_plots(summary_results, window_results, out_dir)"
   ]
  },
  {
   "cell_type": "code",
   "execution_count": null,
   "metadata": {},
   "outputs": [],
   "source": []
  }
 ],
 "metadata": {
  "kernelspec": {
   "display_name": ".venv",
   "language": "python",
   "name": "python3"
  },
  "language_info": {
   "codemirror_mode": {
    "name": "ipython",
    "version": 3
   },
   "file_extension": ".py",
   "mimetype": "text/x-python",
   "name": "python",
   "nbconvert_exporter": "python",
   "pygments_lexer": "ipython3",
   "version": "3.11.6"
  }
 },
 "nbformat": 4,
 "nbformat_minor": 2
}
