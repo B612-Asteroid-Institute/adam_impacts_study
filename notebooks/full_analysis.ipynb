{
 "cells": [
  {
   "cell_type": "code",
   "execution_count": 1,
   "metadata": {},
   "outputs": [],
   "source": [
    "from adam_impact_study.types import (\n",
    "    ImpactorOrbits,\n",
    "    Observations,\n",
    "    ResultsTiming,\n",
    "    WindowResult,\n",
    "    ImpactorResultSummary,\n",
    ")\n",
    "import ray\n",
    "from adam_impact_study.analysis.main import (\n",
    "    run_all_analysis,\n",
    "    collect_all_results,\n",
    "    summarize_impact_study_results,\n",
    "    make_analysis_plots,\n",
    "    calculate_completeness,\n",
    ")\n",
    "from adam_impact_study.analysis.collect import (\n",
    "    collect_all_window_results_new,\n",
    "    create_missing_window_results,\n",
    "    collect_all_observations,\n",
    ")"
   ]
  },
  {
   "cell_type": "code",
   "execution_count": 2,
   "metadata": {},
   "outputs": [],
   "source": [
    "ray.shutdown()"
   ]
  },
  {
   "cell_type": "code",
   "execution_count": 3,
   "metadata": {},
   "outputs": [],
   "source": [
    "run_dir = \"../march_run/results\"\n",
    "out_dir = \"../march_analysis/\""
   ]
  },
  {
   "cell_type": "code",
   "execution_count": 4,
   "metadata": {},
   "outputs": [],
   "source": [
    "# impactor_orbits, observations, results_timing, window_results = collect_all_results(run_dir, max_processes=10)"
   ]
  },
  {
   "cell_type": "code",
   "execution_count": 5,
   "metadata": {},
   "outputs": [],
   "source": [
    "# import pathlib\n",
    "# pathlib.Path(\"../march_analysis/\").mkdir(parents=True, exist_ok=True)\n",
    "# impactor_orbits.to_parquet(\n",
    "#     \"../march_analysis/impactor_orbits.parquet\"\n",
    "# )\n",
    "# observations.to_parquet(\n",
    "#     \"../march_analysis/observations.parquet\"\n",
    "# )\n",
    "# results_timing.to_parquet(\n",
    "#     \"../march_analysis/results_timing.parquet\"\n",
    "# )\n",
    "# window_results.to_parquet(\n",
    "#     \"../march_analysis/window_results.parquet\"\n",
    "# )\n"
   ]
  },
  {
   "cell_type": "code",
   "execution_count": 6,
   "metadata": {},
   "outputs": [],
   "source": [
    "impactor_orbits = ImpactorOrbits.from_parquet(\n",
    "    \"../march_analysis/impactor_orbits.parquet\"\n",
    ")\n",
    "observations = Observations.from_parquet(\n",
    "    \"../march_analysis/observations.parquet\"\n",
    ")\n",
    "results_timing = ResultsTiming.from_parquet(\n",
    "    \"../march_analysis/results_timing.parquet\"\n",
    ")\n",
    "window_results = WindowResult.from_parquet(\n",
    "    \"../march_analysis/window_results.parquet\"\n",
    ")\n"
   ]
  },
  {
   "cell_type": "code",
   "execution_count": 7,
   "metadata": {},
   "outputs": [],
   "source": [
    "# summary_results = summarize_impact_study_results(\n",
    "#     impactor_orbits, observations, results_timing, window_results, out_dir, max_processes=10\n",
    "# )\n",
    "# summary_results.to_parquet(\n",
    "#     \"../march_analysis/summary_results.parquet\"\n",
    "# )\n"
   ]
  },
  {
   "cell_type": "code",
   "execution_count": 8,
   "metadata": {},
   "outputs": [],
   "source": [
    "summary_results = ImpactorResultSummary.from_parquet(\n",
    "    \"../march_analysis/summary_results.parquet\"\n",
    ")\n",
    "\n"
   ]
  },
  {
   "cell_type": "code",
   "execution_count": 9,
   "metadata": {},
   "outputs": [
    {
     "name": "stderr",
     "output_type": "stream",
     "text": [
      "/Users/aleck/Code/adam_impacts_study/.venv/lib/python3.11/site-packages/erfa/core.py:133: ErfaWarning: ERFA function \"dtf2d\" yielded 1 of \"dubious year (Note 6)\"\n",
      "  warn(f'ERFA function \"{func_name}\" yielded {wmsg}', ErfaWarning)\n",
      "/Users/aleck/Code/adam_impacts_study/.venv/lib/python3.11/site-packages/erfa/core.py:133: ErfaWarning: ERFA function \"d2dtf\" yielded 1 of \"dubious year (Note 5)\"\n",
      "  warn(f'ERFA function \"{func_name}\" yielded {wmsg}', ErfaWarning)\n",
      "INFO:adam_impact_study.analysis.plots:Filtering 14935 objects that impact before ['2140-01-01 00:00:00.000']\n",
      "INFO:adam_impact_study.analysis.plots:After filtering, 14935 objects remain\n",
      "INFO:adam_impact_study.analysis.plots:Total complete results: 25502\n"
     ]
    },
    {
     "ename": "TypeError",
     "evalue": "ImpactorResultSummary.get_diameter_impact_period_data() got an unexpected keyword argument 'year_breakdown'",
     "output_type": "error",
     "traceback": [
      "\u001b[31m---------------------------------------------------------------------------\u001b[39m",
      "\u001b[31mTypeError\u001b[39m                                 Traceback (most recent call last)",
      "\u001b[36mCell\u001b[39m\u001b[36m \u001b[39m\u001b[32mIn[9]\u001b[39m\u001b[32m, line 1\u001b[39m\n\u001b[32m----> \u001b[39m\u001b[32m1\u001b[39m \u001b[43mmake_analysis_plots\u001b[49m\u001b[43m(\u001b[49m\u001b[43msummary_results\u001b[49m\u001b[43m,\u001b[49m\u001b[43m \u001b[49m\u001b[43mwindow_results\u001b[49m\u001b[43m,\u001b[49m\u001b[43m \u001b[49m\u001b[43mout_dir\u001b[49m\u001b[43m)\u001b[49m\n",
      "\u001b[36mFile \u001b[39m\u001b[32m~/Code/adam_impacts_study/src/adam_impact_study/analysis/plots.py:2434\u001b[39m, in \u001b[36mmake_analysis_plots\u001b[39m\u001b[34m(summary, window_results, out_dir)\u001b[39m\n\u001b[32m   2427\u001b[39m fig.savefig(\n\u001b[32m   2428\u001b[39m     os.path.join(out_dir, \u001b[33m\"\u001b[39m\u001b[33miawn_threshold_reached_by_diameter_5year.jpg\u001b[39m\u001b[33m\"\u001b[39m),\n\u001b[32m   2429\u001b[39m     bbox_inches=\u001b[33m\"\u001b[39m\u001b[33mtight\u001b[39m\u001b[33m\"\u001b[39m,\n\u001b[32m   2430\u001b[39m     dpi=\u001b[32m200\u001b[39m,\n\u001b[32m   2431\u001b[39m )\n\u001b[32m   2432\u001b[39m plt.close(fig)\n\u001b[32m-> \u001b[39m\u001b[32m2434\u001b[39m fig, ax = \u001b[43mplot_max_impact_probability_histograms_by_diameter_decade\u001b[49m\u001b[43m(\u001b[49m\n\u001b[32m   2435\u001b[39m \u001b[43m    \u001b[49m\u001b[43msummary\u001b[49m\u001b[43m,\u001b[49m\u001b[43m \u001b[49m\u001b[43minclude_undiscovered\u001b[49m\u001b[43m=\u001b[49m\u001b[38;5;28;43;01mTrue\u001b[39;49;00m\n\u001b[32m   2436\u001b[39m \u001b[43m\u001b[49m\u001b[43m)\u001b[49m\n\u001b[32m   2437\u001b[39m fig.savefig(\n\u001b[32m   2438\u001b[39m     os.path.join(\n\u001b[32m   2439\u001b[39m         out_dir, \u001b[33m\"\u001b[39m\u001b[33mmax_impact_probability_histograms_by_diameter_decade_all.jpg\u001b[39m\u001b[33m\"\u001b[39m\n\u001b[32m   (...)\u001b[39m\u001b[32m   2442\u001b[39m     dpi=\u001b[32m200\u001b[39m,\n\u001b[32m   2443\u001b[39m )\n\u001b[32m   2444\u001b[39m plt.close(fig)\n",
      "\u001b[36mFile \u001b[39m\u001b[32m~/Code/adam_impacts_study/src/adam_impact_study/analysis/plots.py:2642\u001b[39m, in \u001b[36mplot_max_impact_probability_histograms_by_diameter_decade\u001b[39m\u001b[34m(summary, include_undiscovered)\u001b[39m\n\u001b[32m   2638\u001b[39m     logger.info(\u001b[33mf\u001b[39m\u001b[33m\"\u001b[39m\u001b[33mTotal discovered results: \u001b[39m\u001b[38;5;132;01m{\u001b[39;00m\u001b[38;5;28mlen\u001b[39m(summary)\u001b[38;5;132;01m}\u001b[39;00m\u001b[33m\"\u001b[39m)\n\u001b[32m   2640\u001b[39m \u001b[38;5;66;03m# Get common data\u001b[39;00m\n\u001b[32m   2641\u001b[39m impact_decades, unique_decades, unique_diameters = (\n\u001b[32m-> \u001b[39m\u001b[32m2642\u001b[39m     \u001b[43msummary\u001b[49m\u001b[43m.\u001b[49m\u001b[43mget_diameter_impact_period_data\u001b[49m\u001b[43m(\u001b[49m\u001b[43myear_breakdown\u001b[49m\u001b[43m=\u001b[49m\u001b[33;43m\"\u001b[39;49m\u001b[33;43mdecade\u001b[39;49m\u001b[33;43m\"\u001b[39;49m\u001b[43m)\u001b[49m\n\u001b[32m   2643\u001b[39m )\n\u001b[32m   2645\u001b[39m \u001b[38;5;66;03m# Sort decades and diameters for consistent ordering\u001b[39;00m\n\u001b[32m   2646\u001b[39m unique_decades = np.sort(unique_decades)\n",
      "\u001b[31mTypeError\u001b[39m: ImpactorResultSummary.get_diameter_impact_period_data() got an unexpected keyword argument 'year_breakdown'"
     ]
    }
   ],
   "source": [
    "make_analysis_plots(summary_results, window_results, out_dir)"
   ]
  }
 ],
 "metadata": {
  "kernelspec": {
   "display_name": ".venv",
   "language": "python",
   "name": "python3"
  },
  "language_info": {
   "codemirror_mode": {
    "name": "ipython",
    "version": 3
   },
   "file_extension": ".py",
   "mimetype": "text/x-python",
   "name": "python",
   "nbconvert_exporter": "python",
   "pygments_lexer": "ipython3",
   "version": "3.11.6"
  }
 },
 "nbformat": 4,
 "nbformat_minor": 2
}
