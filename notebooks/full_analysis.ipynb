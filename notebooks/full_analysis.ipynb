{
 "cells": [
  {
   "cell_type": "code",
   "execution_count": null,
   "metadata": {},
   "outputs": [],
   "source": [
    "from adam_impact_study.analysis.collect import collect_all_results, collect_all_window_results\n",
    "from adam_impact_study.analysis.main import run_all_analysis, summarize_impact_study_results\n",
    "from adam_impact_study.analysis.plots import make_analysis_plots\n",
    "import pathlib\n",
    "from adam_impact_study.types import ImpactorOrbits, Observations, ResultsTiming, WindowResult, ImpactorResultSummary"
   ]
  },
  {
   "cell_type": "code",
   "execution_count": 2,
   "metadata": {},
   "outputs": [],
   "source": [
    "run_dir = \"/Users/natetellis/data/mar_run/results/\"\n",
    "out_dir = \"/Users/natetellis/data/mar_run_analysis/\""
   ]
  },
  {
   "cell_type": "code",
   "execution_count": 3,
   "metadata": {},
   "outputs": [],
   "source": [
    "# impactor_orbits, observations, timings, window_results = collect_all_results(run_dir)"
   ]
  },
  {
   "cell_type": "code",
   "execution_count": 4,
   "metadata": {},
   "outputs": [],
   "source": [
    "# write out these tables\n",
    "# impactor_orbits.to_parquet(\"/Users/natetellis/data/mar_run_analysis/impactor_orbits.parquet\")\n",
    "# observations.to_parquet(\"/Users/natetellis/data/mar_run_analysis/observations.parquet\")\n",
    "# timings.to_parquet(\"/Users/natetellis/data/mar_run_analysis/results_timing.parquet\")\n",
    "# window_results.to_parquet(\"/Users/natetellis/data/mar_run_analysis/window_results.parquet\")\n",
    "\n"
   ]
  },
  {
   "cell_type": "code",
   "execution_count": 5,
   "metadata": {},
   "outputs": [],
   "source": [
    "# Now load from them\n",
    "impactor_orbits = ImpactorOrbits.from_parquet(\"/Users/natetellis/data/mar_run_analysis/impactor_orbits.parquet\")\n",
    "observations = Observations.from_parquet(\"/Users/natetellis/data/mar_run_analysis/observations.parquet\")\n",
    "results_timing = ResultsTiming.from_parquet(\"/Users/natetellis/data/mar_run_analysis/results_timing.parquet\")\n",
    "window_results = WindowResult.from_parquet(\"/Users/natetellis/data/mar_run_analysis/window_results.parquet\")\n",
    "\n"
   ]
  },
  {
   "cell_type": "code",
   "execution_count": 6,
   "metadata": {},
   "outputs": [],
   "source": [
    "# summary_results = summarize_impact_study_results(\n",
    "#     impactor_orbits, observations, results_timing, window_results, out_dir,\n",
    "# )"
   ]
  },
  {
   "cell_type": "code",
   "execution_count": 7,
   "metadata": {},
   "outputs": [],
   "source": [
    "# write out study results\n",
    "# summary_results.to_parquet(\"/Users/natetellis/data/mar_run_analysis/summary_backup.parquet\")\n",
    "# load the summary results\n",
    "summary_results = ImpactorResultSummary.from_parquet(\"/Users/natetellis/data/mar_run_analysis/summary_backup.parquet\")\n"
   ]
  },
  {
   "cell_type": "code",
   "execution_count": null,
   "metadata": {},
   "outputs": [],
   "source": [
    "import pandas as pd\n",
    "pd.set_option('display.max_columns', None)\n",
    "\n",
    "summary_results.to_dataframe()"
   ]
  },
  {
   "cell_type": "code",
   "execution_count": null,
   "metadata": {},
   "outputs": [],
   "source": [
    "make_analysis_plots(summary_results,window_results, out_dir)"
   ]
  },
  {
   "cell_type": "code",
   "execution_count": null,
   "metadata": {},
   "outputs": [],
   "source": []
  }
 ],
 "metadata": {
  "kernelspec": {
   "display_name": ".venv",
   "language": "python",
   "name": "python3"
  },
  "language_info": {
   "codemirror_mode": {
    "name": "ipython",
    "version": 3
   },
   "file_extension": ".py",
   "mimetype": "text/x-python",
   "name": "python",
   "nbconvert_exporter": "python",
   "pygments_lexer": "ipython3",
   "version": "3.11.10"
  }
 },
 "nbformat": 4,
 "nbformat_minor": 2
}
