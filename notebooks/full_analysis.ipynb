{
 "cells": [
  {
   "cell_type": "code",
   "execution_count": 1,
   "metadata": {},
   "outputs": [],
   "source": [
    "from adam_impact_study.analysis.collect import collect_all_results\n",
    "from adam_impact_study.analysis.main import run_all_analysis, summarize_impact_study_results\n",
    "from adam_impact_study.analysis.plots import make_analysis_plots, plot_ip_over_time\n",
    "import pathlib"
   ]
  },
  {
   "cell_type": "code",
   "execution_count": 2,
   "metadata": {},
   "outputs": [],
   "source": [
    "run_dir = \"march_run/\"\n",
    "out_dir = \"march_analysis/\""
   ]
  },
  {
   "cell_type": "code",
   "execution_count": 3,
   "metadata": {},
   "outputs": [
    {
     "name": "stdout",
     "output_type": "stream",
     "text": [
      "Orbit I00167_b002_v000000_2065-2075 has unlinked observations\n",
      "Orbit I00090_b009_v000000_2035-2045 has incomplete windows\n",
      "Orbit I00000_b005_v000000_2065-2075 has no observations\n",
      "Orbit I00272_b011_v000000_2095-2105 has incomplete windows\n",
      "Orbit I00002_b002_v000000_2065-2075 has no observations\n"
     ]
    },
    {
     "name": "stderr",
     "output_type": "stream",
     "text": [
      "INFO:adam_impact_study.analysis.main:Saved impact study results to /Users/aleck/Code/adam_impacts_study/march_analysis\n",
      "INFO:adam_impact_study.analysis.plots:Generated warning time histogram\n",
      "INFO:adam_impact_study.analysis.plots:Generated realization time histogram\n",
      "INFO:adam_impact_study.analysis.plots:Generated discoveries by diameter plot\n",
      "INFO:adam_impact_study.analysis.plots:Generated runtime by diameter plot\n",
      "INFO:adam_impact_study.analysis.plots:Generated incomplete by diameter plot\n",
      "INFO:adam_impact_study.analysis.plots:Orbit ID Plotting: I00099_b009_v000000_2105-2115\n",
      "INFO:adam_impact_study.analysis.plots:Orbit ID Plotting: I00149_b007_v000000_2105-2115\n",
      "INFO:adam_impact_study.analysis.plots:Orbit ID Plotting: I00169_b011_v000000_2085-2095\n",
      "INFO:adam_impact_study.analysis.plots:Orbit ID Plotting: I00119_b007_v000000_2095-2105\n",
      "INFO:adam_impact_study.analysis.plots:Orbit ID Plotting: I00090_b009_v000000_2035-2045\n",
      "INFO:adam_impact_study.analysis.plots:Orbit ID Plotting: I00189_b009_v000000_2085-2095\n",
      "INFO:adam_impact_study.analysis.plots:Orbit ID Plotting: I00000_b005_v000000_2035-2045\n",
      "INFO:adam_impact_study.analysis.plots:Orbit ID Plotting: I00272_b011_v000000_2095-2105\n",
      "INFO:adam_impact_study.analysis.plots:Orbit ID Plotting: I00001_b008_v000000_2115-2125\n",
      "INFO:adam_impact_study.analysis.plots:Orbit ID Plotting: I00000_b011_v000000_2045-2055\n",
      "INFO:adam_impact_study.analysis.plots:Orbit ID Plotting: I00201_b008_v000000_2025-2035\n"
     ]
    }
   ],
   "source": [
    "run_all_analysis(run_dir, out_dir, summary_plots=True, individual_plots=True)"
   ]
  },
  {
   "cell_type": "code",
   "execution_count": 4,
   "metadata": {},
   "outputs": [],
   "source": [
    "impactor_orbits, observations, timings, window_results = collect_all_results(\"march_run/\")"
   ]
  },
  {
   "cell_type": "code",
   "execution_count": 5,
   "metadata": {},
   "outputs": [
    {
     "name": "stdout",
     "output_type": "stream",
     "text": [
      "ImpactorOrbits(size=14)\n",
      "Observations(size=1231)\n",
      "ResultsTiming(size=14)\n",
      "WindowResult(size=573)\n"
     ]
    },
    {
     "data": {
      "text/plain": [
       "<pyarrow.lib.LargeStringArray object at 0x169e2d600>\n",
       "[\n",
       "  \"I00099_b009_v000000_2105-2115\",\n",
       "  \"I00149_b007_v000000_2105-2115\",\n",
       "  \"I00169_b011_v000000_2085-2095\",\n",
       "  \"I00119_b007_v000000_2095-2105\",\n",
       "  \"I00090_b009_v000000_2035-2045\",\n",
       "  \"I00189_b009_v000000_2085-2095\",\n",
       "  \"I00000_b005_v000000_2035-2045\",\n",
       "  \"I00272_b011_v000000_2095-2105\",\n",
       "  \"I00001_b008_v000000_2115-2125\",\n",
       "  \"I00000_b011_v000000_2045-2055\",\n",
       "  \"I00201_b008_v000000_2025-2035\"\n",
       "]"
      ]
     },
     "execution_count": 5,
     "metadata": {},
     "output_type": "execute_result"
    }
   ],
   "source": [
    "print(impactor_orbits)\n",
    "print(observations)\n",
    "print(timings)\n",
    "print(window_results)\n",
    "window_results.orbit_id.unique()\n"
   ]
  },
  {
   "cell_type": "code",
   "execution_count": 6,
   "metadata": {},
   "outputs": [
    {
     "ename": "TypeError",
     "evalue": "summarize_impact_study_results() got an unexpected keyword argument 'summary_plots'",
     "output_type": "error",
     "traceback": [
      "\u001b[31m---------------------------------------------------------------------------\u001b[39m",
      "\u001b[31mTypeError\u001b[39m                                 Traceback (most recent call last)",
      "\u001b[36mCell\u001b[39m\u001b[36m \u001b[39m\u001b[32mIn[6]\u001b[39m\u001b[32m, line 1\u001b[39m\n\u001b[32m----> \u001b[39m\u001b[32m1\u001b[39m summary_results = \u001b[43msummarize_impact_study_results\u001b[49m\u001b[43m(\u001b[49m\n\u001b[32m      2\u001b[39m \u001b[43m    \u001b[49m\u001b[43mimpactor_orbits\u001b[49m\u001b[43m,\u001b[49m\u001b[43m \u001b[49m\u001b[43mobservations\u001b[49m\u001b[43m,\u001b[49m\u001b[43m \u001b[49m\u001b[43mtimings\u001b[49m\u001b[43m,\u001b[49m\u001b[43m \u001b[49m\u001b[43mwindow_results\u001b[49m\u001b[43m,\u001b[49m\u001b[43m \u001b[49m\u001b[43mout_dir\u001b[49m\u001b[43m,\u001b[49m\u001b[43m \u001b[49m\u001b[43msummary_plots\u001b[49m\u001b[43m=\u001b[49m\u001b[38;5;28;43;01mFalse\u001b[39;49;00m\n\u001b[32m      3\u001b[39m \u001b[43m)\u001b[49m\n",
      "\u001b[31mTypeError\u001b[39m: summarize_impact_study_results() got an unexpected keyword argument 'summary_plots'"
     ]
    }
   ],
   "source": [
    "summary_results = summarize_impact_study_results(\n",
    "    impactor_orbits, observations, timings, window_results, out_dir,\n",
    ")"
   ]
  },
  {
   "cell_type": "code",
   "execution_count": null,
   "metadata": {},
   "outputs": [],
   "source": [
    "import pandas as pd\n",
    "pd.set_option('display.max_columns', None)\n",
    "\n",
    "summary_results.to_dataframe()"
   ]
  },
  {
   "cell_type": "code",
   "execution_count": null,
   "metadata": {},
   "outputs": [],
   "source": [
    "make_analysis_plots(summary_results, out_dir)"
   ]
  },
  {
   "cell_type": "code",
   "execution_count": null,
   "metadata": {},
   "outputs": [],
   "source": [
    "plot_ip_over_time(impactor_orbits, window_results, pathlib.Path(out_dir).absolute(), survey_start=None)"
   ]
  },
  {
   "cell_type": "code",
   "execution_count": null,
   "metadata": {},
   "outputs": [],
   "source": []
  }
 ],
 "metadata": {
  "kernelspec": {
   "display_name": ".venv",
   "language": "python",
   "name": "python3"
  },
  "language_info": {
   "codemirror_mode": {
    "name": "ipython",
    "version": 3
   },
   "file_extension": ".py",
   "mimetype": "text/x-python",
   "name": "python",
   "nbconvert_exporter": "python",
   "pygments_lexer": "ipython3",
   "version": "3.11.6"
  }
 },
 "nbformat": 4,
 "nbformat_minor": 2
}
