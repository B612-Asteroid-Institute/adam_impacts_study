{
 "cells": [
  {
   "cell_type": "code",
   "execution_count": 1,
   "metadata": {},
   "outputs": [],
   "source": [
    "from adam_impact_study.types import (\n",
    "    ImpactorOrbits,\n",
    "    Observations,\n",
    "    ResultsTiming,\n",
    "    WindowResult,\n",
    "    ImpactorResultSummary,\n",
    ")\n",
    "import ray\n",
    "from adam_impact_study.analysis.main import (\n",
    "    run_all_analysis,\n",
    "    collect_all_results,\n",
    "    summarize_impact_study_results,\n",
    "    make_analysis_plots,\n",
    ")\n",
    "from adam_impact_study.analysis.collect import (\n",
    "    collect_all_window_results_new,\n",
    "    create_missing_window_results,\n",
    "    collect_all_observations,\n",
    ")"
   ]
  },
  {
   "cell_type": "code",
   "execution_count": 2,
   "metadata": {},
   "outputs": [],
   "source": [
    "ray.shutdown()"
   ]
  },
  {
   "cell_type": "code",
   "execution_count": 3,
   "metadata": {},
   "outputs": [],
   "source": [
    "run_dir = \"../march_run/results\"\n",
    "out_dir = \"../march_analysis/\""
   ]
  },
  {
   "cell_type": "code",
   "execution_count": 4,
   "metadata": {},
   "outputs": [],
   "source": [
    "# window_results = collect_all_window_results_new(run_dir, max_processes=10)\n"
   ]
  },
  {
   "cell_type": "code",
   "execution_count": 5,
   "metadata": {},
   "outputs": [],
   "source": [
    "# window_results.to_parquet(\"../march_analysis/window_results.parquet\")"
   ]
  },
  {
   "cell_type": "code",
   "execution_count": 6,
   "metadata": {},
   "outputs": [],
   "source": [
    "window_results = WindowResult.from_parquet(\"../march_analysis/window_results.parquet\")"
   ]
  },
  {
   "cell_type": "code",
   "execution_count": 7,
   "metadata": {},
   "outputs": [],
   "source": [
    "# observations=collect_all_observations(run_dir, max_processes=10)"
   ]
  },
  {
   "cell_type": "code",
   "execution_count": 8,
   "metadata": {},
   "outputs": [],
   "source": [
    "# observations.to_parquet(\"../march_analysis/observations.parquet\")"
   ]
  },
  {
   "cell_type": "code",
   "execution_count": 9,
   "metadata": {},
   "outputs": [],
   "source": [
    "observations=Observations.from_parquet(\"../march_analysis/observations.parquet\")"
   ]
  },
  {
   "cell_type": "code",
   "execution_count": null,
   "metadata": {},
   "outputs": [],
   "source": [
    "all_window_results=create_missing_window_results(observations, window_results, max_processes=10)\n",
    "all_window_results.to_parquet(\"../march_analysis/all_window_results.parquet\")\n"
   ]
  },
  {
   "cell_type": "code",
   "execution_count": null,
   "metadata": {},
   "outputs": [],
   "source": [
    "all_window_results=WindowResult.from_parquet(\"../march_analysis/all_window_results.parquet\")"
   ]
  },
  {
   "cell_type": "code",
   "execution_count": 3,
   "metadata": {},
   "outputs": [],
   "source": [
    "# run_all_analysis(run_dir, out_dir, summary_plots=True, individual_plots=False)"
   ]
  },
  {
   "cell_type": "code",
   "execution_count": null,
   "metadata": {},
   "outputs": [],
   "source": [
    "impactor_orbits, observations, results_timing, window_results = collect_all_results(\n",
    "    run_dir\n",
    ")\n",
    "impactor_orbits.to_parquet(\n",
    "    \"../march_analysis/impactor_orbits.parquet\"\n",
    ")\n",
    "observations.to_parquet(\n",
    "    \"../march_analysis/observations.parquet\"\n",
    ")\n",
    "results_timing.to_parquet(\n",
    "    \"../march_analysis/results_timing.parquet\"\n",
    ")\n",
    "window_results.to_parquet(\n",
    "    \"../march_analysis/window_results.parquet\"\n",
    ")\n"
   ]
  },
  {
   "cell_type": "code",
   "execution_count": 5,
   "metadata": {},
   "outputs": [],
   "source": [
    "impactor_orbits = ImpactorOrbits.from_parquet(\n",
    "    \"../march_analysis/impactor_orbits.parquet\"\n",
    ")\n",
    "observations = Observations.from_parquet(\n",
    "    \"../march_analysis/observations.parquet\"\n",
    ")\n",
    "results_timing = ResultsTiming.from_parquet(\n",
    "    \"../march_analysis/results_timing.parquet\"\n",
    ")\n",
    "window_results = WindowResult.from_parquet(\n",
    "    \"../march_analysis/window_results.parquet\"\n",
    ")\n"
   ]
  },
  {
   "cell_type": "code",
   "execution_count": null,
   "metadata": {},
   "outputs": [],
   "source": [
    "summary_results = summarize_impact_study_results(\n",
    "    impactor_orbits, observations, results_timing, window_results, out_dir, max_processes=1\n",
    ")\n",
    "summary_results.to_parquet(\n",
    "    \"../march_analysis/summary_results.parquet\"\n",
    ")\n"
   ]
  },
  {
   "cell_type": "code",
   "execution_count": 7,
   "metadata": {},
   "outputs": [],
   "source": [
    "summary_results = ImpactorResultSummary.from_parquet(\n",
    "    \"../march_analysis/summary_results.parquet\"\n",
    ")\n",
    "\n"
   ]
  },
  {
   "cell_type": "code",
   "execution_count": null,
   "metadata": {},
   "outputs": [],
   "source": [
    "make_analysis_plots(summary_results, window_results, out_dir)"
   ]
  },
  {
   "cell_type": "code",
   "execution_count": null,
   "metadata": {},
   "outputs": [],
   "source": []
  }
 ],
 "metadata": {
  "kernelspec": {
   "display_name": ".venv",
   "language": "python",
   "name": "python3"
  },
  "language_info": {
   "codemirror_mode": {
    "name": "ipython",
    "version": 3
   },
   "file_extension": ".py",
   "mimetype": "text/x-python",
   "name": "python",
   "nbconvert_exporter": "python",
   "pygments_lexer": "ipython3",
   "version": "3.11.6"
  }
 },
 "nbformat": 4,
 "nbformat_minor": 2
}
