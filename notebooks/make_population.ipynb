{
 "cells": [
  {
   "cell_type": "code",
   "execution_count": 1,
   "metadata": {},
   "outputs": [],
   "source": [
    "from adam_impact_study.population import generate_population, PopulationConfig\n",
    "from adam_core.orbits import Orbits\n",
    "from adam_core.time import Timestamp\n",
    "import glob\n",
    "import os"
   ]
  },
  {
   "cell_type": "code",
   "execution_count": 2,
   "metadata": {},
   "outputs": [],
   "source": [
    "# Get default population config\n",
    "population_config = PopulationConfig.default()\n",
    "\n",
    "# Set diameters (in km)\n",
    "diameters = [100, 500, 1000]\n",
    "\n",
    "# Directory containing raw result files\n",
    "raw_results_dir = \"results_2025_10k_parquet_raw\"\n",
    "\n",
    "# Get all raw result files\n",
    "result_files = glob.glob(f\"{raw_results_dir}/*.parquet\")\n",
    "\n",
    "for result_file in result_files:\n",
    "    # Load orbits from result file\n",
    "    orbits = Orbits.from_parquet(result_file)\n",
    "    \n",
    "    # Extract dates from filename\n",
    "    filename = os.path.basename(result_file)\n",
    "    dates = filename.split(\"_\")[1:3]  # Gets the start and end dates\n",
    "    start_date = dates[0]\n",
    "    end_date = dates[1].replace(\".parquet\", \"\")\n",
    "    \n",
    "    # Create impact dates timestamp\n",
    "    impact_dates = orbits.coordinates.time\n",
    "    \n",
    "    # Generate population\n",
    "    population = generate_population(\n",
    "        orbits=orbits,\n",
    "        impact_dates=impact_dates,\n",
    "        population_config=population_config,\n",
    "        diameters=diameters,\n",
    "        albedo_distribution=\"rayleigh\"\n",
    "        seed=612\n",
    "    )\n",
    "    \n",
    "    # Save population to parquet file\n",
    "    output_filename = f\"4.3.1_{start_date[:4]}-{end_date[:4]}_params.parquet\"\n",
    "    population.to_parquet(output_filename)"
   ]
  }
 ],
 "metadata": {
  "kernelspec": {
   "display_name": ".venv",
   "language": "python",
   "name": "python3"
  },
  "language_info": {
   "codemirror_mode": {
    "name": "ipython",
    "version": 3
   },
   "file_extension": ".py",
   "mimetype": "text/x-python",
   "name": "python",
   "nbconvert_exporter": "python",
   "pygments_lexer": "ipython3",
   "version": "3.12.8"
  }
 },
 "nbformat": 4,
 "nbformat_minor": 2
}
